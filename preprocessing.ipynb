{
 "cells": [
  {
   "cell_type": "code",
   "execution_count": 1,
   "id": "d5fc1d8f-a478-466a-ac9f-c9b955a201b4",
   "metadata": {
    "scrolled": true
   },
   "outputs": [
    {
     "data": {
      "text/plain": [
       "['',\n",
       " \"UU Tapera Digugat, MK Diminta Hapus Frasa 'Wajib Jadi Peserta'\",\n",
       " '',\n",
       " 'Anggota PPP Minta MK Hapus Ambang Batas DPR-Berlaku untuk Hasil Pileg 2024',\n",
       " '',\n",
       " 'Penampakan Perdana Virgoun dan Rekan Wanitanya Usai Ditangkap Terkait Narkoba',\n",
       " '',\n",
       " \"Ma'ruf Amin: Kalau Disuruh Milih, Semua Ingin Jadi Anak Presiden\",\n",
       " '',\n",
       " 'Survei Litbang Kompas: TNI-Polri Jadi 2 Lembaga dengan Citra Positif Teratas',\n",
       " '',\n",
       " 'Propam Polri Buka Hotline, Masyarakat Bisa Adukan Anggota Terlibat Judi Online',\n",
       " '',\n",
       " 'Momen Prabowo Hampiri Jokowi di Halim, Beri Ucapan Ultah Secara Langsung',\n",
       " '',\n",
       " 'Virgoun Ditangkap Terkait Narkoba, Keluarga Bakal Ajukan Rehabilitasi',\n",
       " '',\n",
       " 'Polisi Sebut Markas Uang Palsu di Jakbar Juga Jadi Kantor Akuntan Publik',\n",
       " '',\n",
       " 'Polisi Ungkap Uang Palsu Rp 22 Miliar Dijual Rp 5,5 Miliar',\n",
       " '',\n",
       " 'Kucing Oyen Terjebur Sumur hingga Lemas, Damkar Bogor Evakuasi',\n",
       " '',\n",
       " 'Hasil Pemeriksaan Kesehatan Virgoun Usai Ditangkap gegara Narkoba',\n",
       " '',\n",
       " 'Pengurus Truk Tutup Akses ke Pelabuhan Bakauheni, BPTD Lampung Buka Suara',\n",
       " '',\n",
       " 'Polri Bongkar 318 Kasus Judi Online Selama 2 Bulan, 464 Tersangka Ditahan',\n",
       " '',\n",
       " 'BI Sampaikan Hasil Penelitian Uang Palsu Rp 22 M yang Disita Polisi',\n",
       " '',\n",
       " 'Bamsoet Dukung Konser Bruno Mars untuk Peningkatan Ekonomi RI',\n",
       " '',\n",
       " 'Tersangka Mau Tukar Duit Palsu Miliaran dengan Uang yang Akan Dimusnahkan BI',\n",
       " '',\n",
       " 'Dinkes DKI Sebut Nyamuk Ber-wolbachia Tekan Kasus DBD Jika Populasi 60% Lebih',\n",
       " '',\n",
       " 'E-Coklit Pilkada 2024: Apa Itu dan Kapan Jadwal Pelaksanaannya?',\n",
       " '',\n",
       " 'Perputaran Duit 3 Situs Judol Capai Rp 1 T, Bareskrim Bakal Terapkan TPPU',\n",
       " '',\n",
       " 'Kemensos Bantah Isu Pejabat Eselon I Terima Bansos',\n",
       " '',\n",
       " 'Potret Uang Palsu Rp 22 M yang Disita Polisi di Jakbar',\n",
       " '',\n",
       " 'Peduli Kesehatan Pekerja, PT GNI Gelar Vaksinasi bagi Ribuan Karyawan',\n",
       " '',\n",
       " 'Pengepungan El Fashir di Sudan Indikasikan Taktik Bumi Hangus',\n",
       " '',\n",
       " 'Anwar Ibrahim Ucapkan Selamat Ultah, Jokowi Titip Salam untuk Warga Malaysia',\n",
       " '',\n",
       " 'Ukraina Lancarkan Serangan Drone ke Kilang Minyak-Pusat Militer Rusia',\n",
       " '',\n",
       " 'Kemensos Tantang Suharso Sebut Nama Pejabat Eselon I yang Terima Bansos',\n",
       " '',\n",
       " 'PUI Ucapkan Selamat Citra TNI-Polri Teratas di Litbang Kompas',\n",
       " '',\n",
       " 'Ibu Ungkap Kronologi Anak di Bogor Hilang, Diduga Jadi Korban TPPO',\n",
       " '',\n",
       " 'Enam Alasan Mengapa Lebih dari 1.000 Jemaah Haji Meninggal di Saudi',\n",
       " '',\n",
       " 'Server 3 Situs Judi Online Ada di Luar Negeri, Transaksi Pakai Kripto',\n",
       " '',\n",
       " 'Mengenal Karakteristik Pasar Karbon Indonesia',\n",
       " '',\n",
       " \"Alex Marwata Ancam Pecat Penyidik Harun Masiku Jika Ketahuan Ada 'Pesanan'\",\n",
       " '',\n",
       " 'Penampakan Mesin Pemotong-Pencetak Uang Palsu Rp 22 Miliar di Jakbar',\n",
       " '',\n",
       " 'Keluarga Sesali Virgoun Pakai Narkoba: Dia Lagi Pusing, Lagi Stres',\n",
       " '',\n",
       " '5 Berita Terpopuler Internasional Hari Ini',\n",
       " '',\n",
       " 'Habiburokhman Acungi Jempol Citra Polri Naik di Survei Litbang Kompas',\n",
       " '',\n",
       " 'Gaji Operator Mesin Uang Palsu Jakbar Rp 1 Juta Sehari, Bonus Rp 100 Juta',\n",
       " '',\n",
       " 'Penampakan Perdana Virgoun dan Rekan Wanitanya Usai Ditangkap Terkait Narkoba',\n",
       " '',\n",
       " 'Kadiv Propam Polri Ingatkan Anggota Terlibat Judi Online Bisa Dipecat!',\n",
       " '',\n",
       " 'Kepuasan Kinerja Jokowi 75,6% Versi Kompas, Istana: Bukti Apresiasi Warga',\n",
       " '',\n",
       " 'Bareskrim Ungkap Perputaran Uang di 3 Situs Judi Online Capai Rp 1 T',\n",
       " '',\n",
       " 'Bangkai Ayam Dibuang ke Jurang Gara-gara Truk Kena Macet 2 Hari di Sulawesi',\n",
       " '',\n",
       " 'Gadis Remaja Asal Bogor yang Dilaporkan Hilang Sudah Kembali ke Rumah',\n",
       " '',\n",
       " 'Tinggi Muka Air Bendung Katulampa Sentuh 0 Cm Imbas Musim Kemarau',\n",
       " '',\n",
       " 'Virgoun Peluk Ibunya Usai Ditangkap Terkait Narkoba: Mami, Maafkan Aku Nakal',\n",
       " '',\n",
       " 'Polisi Selidiki Dugaan Penjarahan di Rusun Marunda Jakut, Ini Hasilnya',\n",
       " '',\n",
       " '1.000 Jemaah Haji Dilaporkan Meninggal di Arab Saudi',\n",
       " '',\n",
       " 'Bertumpuk! Ini Uang Palsu Rp 22 M Disita Polisi dari Pabrik di Jakbar',\n",
       " '',\n",
       " 'KPU Yakin 20 Pemungutan Suara Ulang Pileg Tak Ganggu Pencalonan Pilkada',\n",
       " '',\n",
       " \"KLHK Tetapkan 3 Pulau Prioritas buat Kejar Indonesia's FOLU Net Sink 2030\",\n",
       " '',\n",
       " 'Potret Pantai di Meksiko Dihantam Badai Tropis Alberto',\n",
       " '',\n",
       " 'Kemensos Tak Temukan Data Pejabat Eselon I Kementerian PPN Terima Bansos',\n",
       " '',\n",
       " 'Sandiaga Usul PPP Dukung Pemerintahan Prabowo',\n",
       " '',\n",
       " 'Eks Bupati Boalemo Jadi Tersangka Kasus Korupsi Jalan Usaha tani',\n",
       " '',\n",
       " 'Dunia Hari Ini: Gelombang Panas Melanda Eropa, Asia dan Amerika Utara',\n",
       " 'pilpres 2024',\n",
       " 'hoegeng awards',\n",
       " 'Tersangka Mau Tukar Duit Palsu Miliaran dengan Uang yang Akan Dimusnahkan BI',\n",
       " 'Penampakan Perdana Virgoun dan Rekan Wanitanya Usai Ditangkap Terkait Narkoba',\n",
       " 'Ada Mobil Pelat TNI di Markas Sindikat Uang Palsu Jakbar, Ini Kata Kapendam',\n",
       " 'Bertumpuk! Ini Uang Palsu Rp 22 M Disita Polisi dari Pabrik di Jakbar',\n",
       " 'BI Teliti Uang Palsu Rp 22 Miliar Disita Polisi di Jakbar, Ini Hasilnya',\n",
       " 'Ganjar Singgung Politisi Konsisten Kala PDIP Lirik Anies di Pilgub Jakarta',\n",
       " 'Anies Respons Heru Budi soal Jakarta Semrawut gegara 5 Tahun Terlupakan',\n",
       " '']"
      ]
     },
     "execution_count": 1,
     "metadata": {},
     "output_type": "execute_result"
    }
   ],
   "source": [
    "import pandas as pd\n",
    "import numpy as np\n",
    "\n",
    "with open('./web scraping/2024-06-21_20-00-06.txt') as file:\n",
    "    isi=file.readlines()\n",
    "\n",
    "isi_text = []\n",
    "for sub in isi:\n",
    "    isi_text.append(sub.replace(\"\\n\", \"\"))\n",
    "\n",
    "isi_text"
   ]
  },
  {
   "cell_type": "code",
   "execution_count": 2,
   "id": "242dc95c-981a-4eb4-a3ba-409a92c5c3db",
   "metadata": {},
   "outputs": [],
   "source": [
    "isi = np.char.lower(str(isi_text))"
   ]
  },
  {
   "cell_type": "code",
   "execution_count": 3,
   "id": "deff305b-27c9-4946-b3e0-6168fe6a942c",
   "metadata": {},
   "outputs": [
    {
     "name": "stdout",
     "output_type": "stream",
     "text": [
      " uu tapera digugat mk diminta hapus frasa wajib jadi peserta  anggota ppp minta mk hapus ambang batas dprberlaku untuk hasil pileg 2024  penampakan perdana virgoun dan rekan wanitanya usai ditangkap terkait narkoba  maruf amin kalau disuruh milih semua ingin jadi anak presiden  survei litbang kompas tnipolri jadi 2 lembaga dengan citra positif teratas  propam polri buka hotline masyarakat bisa adukan anggota terlibat judi online  momen prabowo hampiri jokowi di halim beri ucapan ultah secara langsung  virgoun ditangkap terkait narkoba keluarga bakal ajukan rehabilitasi  polisi sebut markas uang palsu di jakbar juga jadi kantor akuntan publik  polisi ungkap uang palsu rp 22 miliar dijual rp 55 miliar  kucing oyen terjebur sumur hingga lemas damkar bogor evakuasi  hasil pemeriksaan kesehatan virgoun usai ditangkap gegara narkoba  pengurus truk tutup akses ke pelabuhan bakauheni bptd lampung buka suara  polri bongkar 318 kasus judi online selama 2 bulan 464 tersangka ditahan  bi sampaikan hasil penelitian uang palsu rp 22 m yang disita polisi  bamsoet dukung konser bruno mars untuk peningkatan ekonomi ri  tersangka mau tukar duit palsu miliaran dengan uang yang akan dimusnahkan bi  dinkes dki sebut nyamuk berwolbachia tekan kasus dbd jika populasi 60 lebih  ecoklit pilkada 2024 apa itu dan kapan jadwal pelaksanaannya  perputaran duit 3 situs judol capai rp 1 t bareskrim bakal terapkan tppu  kemensos bantah isu pejabat eselon i terima bansos  potret uang palsu rp 22 m yang disita polisi di jakbar  peduli kesehatan pekerja pt gni gelar vaksinasi bagi ribuan karyawan  pengepungan el fashir di sudan indikasikan taktik bumi hangus  anwar ibrahim ucapkan selamat ultah jokowi titip salam untuk warga malaysia  ukraina lancarkan serangan drone ke kilang minyakpusat militer rusia  kemensos tantang suharso sebut nama pejabat eselon i yang terima bansos  pui ucapkan selamat citra tnipolri teratas di litbang kompas  ibu ungkap kronologi anak di bogor hilang diduga jadi korban tppo  enam alasan mengapa lebih dari 1000 jemaah haji meninggal di saudi  server 3 situs judi online ada di luar negeri transaksi pakai kripto  mengenal karakteristik pasar karbon indonesia  alex marwata ancam pecat penyidik harun masiku jika ketahuan ada pesanan  penampakan mesin pemotongpencetak uang palsu rp 22 miliar di jakbar  keluarga sesali virgoun pakai narkoba dia lagi pusing lagi stres  5 berita terpopuler internasional hari ini  habiburokhman acungi jempol citra polri naik di survei litbang kompas  gaji operator mesin uang palsu jakbar rp 1 juta sehari bonus rp 100 juta  penampakan perdana virgoun dan rekan wanitanya usai ditangkap terkait narkoba  kadiv propam polri ingatkan anggota terlibat judi online bisa dipecat  kepuasan kinerja jokowi 756 versi kompas istana bukti apresiasi warga  bareskrim ungkap perputaran uang di 3 situs judi online capai rp 1 t  bangkai ayam dibuang ke jurang garagara truk kena macet 2 hari di sulawesi  gadis remaja asal bogor yang dilaporkan hilang sudah kembali ke rumah  tinggi muka air bendung katulampa sentuh 0 cm imbas musim kemarau  virgoun peluk ibunya usai ditangkap terkait narkoba mami maafkan aku nakal  polisi selidiki dugaan penjarahan di rusun marunda jakut ini hasilnya  1000 jemaah haji dilaporkan meninggal di arab saudi  bertumpuk ini uang palsu rp 22 m disita polisi dari pabrik di jakbar  kpu yakin 20 pemungutan suara ulang pileg tak ganggu pencalonan pilkada  klhk tetapkan 3 pulau prioritas buat kejar indonesias folu net sink 2030  potret pantai di meksiko dihantam badai tropis alberto  kemensos tak temukan data pejabat eselon i kementerian ppn terima bansos  sandiaga usul ppp dukung pemerintahan prabowo  eks bupati boalemo jadi tersangka kasus korupsi jalan usaha tani  dunia hari ini gelombang panas melanda eropa asia dan amerika utara pilpres 2024 hoegeng awards tersangka mau tukar duit palsu miliaran dengan uang yang akan dimusnahkan bi penampakan perdana virgoun dan rekan wanitanya usai ditangkap terkait narkoba ada mobil pelat tni di markas sindikat uang palsu jakbar ini kata kapendam bertumpuk ini uang palsu rp 22 m disita polisi dari pabrik di jakbar bi teliti uang palsu rp 22 miliar disita polisi di jakbar ini hasilnya ganjar singgung politisi konsisten kala pdip lirik anies di pilgub jakarta anies respons heru budi soal jakarta semrawut gegara 5 tahun terlupakan \n"
     ]
    }
   ],
   "source": [
    "import re\n",
    "marks = \"!\\\"#$%&'()*+,-./:;<=>?@[\\]^_`{|}~\\n\"\n",
    "\n",
    "for x in marks:  \n",
    "    isi = np.char.replace(str(isi), x, \"\")\n",
    "\n",
    "print(isi)"
   ]
  },
  {
   "cell_type": "code",
   "execution_count": 4,
   "id": "c8e4d495-a395-4ef9-9728-ad62ca81c08a",
   "metadata": {},
   "outputs": [],
   "source": [
    "isi = repr(isi)\n",
    "isi = re.sub(r\"[^a-zA-Z]\", \" \", isi)"
   ]
  },
  {
   "cell_type": "code",
   "execution_count": 5,
   "id": "ea363abc-8169-4f43-8dda-ff495e83b6a3",
   "metadata": {},
   "outputs": [],
   "source": [
    "# remove the whitespaces or specific characters from the string at the beginning and end of the string\n",
    "isi = isi.strip()"
   ]
  },
  {
   "cell_type": "code",
   "execution_count": 6,
   "id": "c8c6c297-fac1-4d0c-aebe-55ca94d7f9f6",
   "metadata": {},
   "outputs": [],
   "source": [
    "isi = re.sub(r\"\\s+\", \" \", isi)"
   ]
  },
  {
   "cell_type": "code",
   "execution_count": 7,
   "id": "690efb5e-c40e-46e6-9466-7eae10ac7eb4",
   "metadata": {},
   "outputs": [
    {
     "name": "stdout",
     "output_type": "stream",
     "text": [
      "['array', 'uu', 'tapera', 'digugat', 'mk', 'diminta', 'hapus', 'frasa', 'wajib', 'jadi', 'peserta', 'anggota', 'ppp', 'minta', 'mk', 'hapus', 'ambang', 'batas', 'dprberlaku', 'untuk', 'hasil', 'pileg', 'penampakan', 'perdana', 'virgoun', 'dan', 'rekan', 'wanitanya', 'usai', 'ditangkap', 'terkait', 'narkoba', 'maruf', 'amin', 'kalau', 'disuruh', 'milih', 'semua', 'ingin', 'jadi', 'anak', 'presiden', 'survei', 'litbang', 'kompas', 'tnipolri', 'jadi', 'lembaga', 'dengan', 'citra', 'positif', 'teratas', 'propam', 'polri', 'buka', 'hotline', 'masyarakat', 'bisa', 'adukan', 'anggota', 'terlibat', 'judi', 'online', 'momen', 'prabowo', 'hampiri', 'jokowi', 'di', 'halim', 'beri', 'ucapan', 'ultah', 'secara', 'langsung', 'virgoun', 'ditangkap', 'terkait', 'narkoba', 'keluarga', 'bakal', 'ajukan', 'rehabilitasi', 'polisi', 'sebut', 'markas', 'uang', 'palsu', 'di', 'jakbar', 'juga', 'jadi', 'kantor', 'akuntan', 'publik', 'polisi', 'ungkap', 'uang', 'palsu', 'rp', 'miliar', 'dijual', 'rp', 'miliar', 'kucing', 'oyen', 'terjebur', 'sumur', 'hingga', 'lemas', 'damkar', 'bogor', 'evakuasi', 'hasil', 'pemeriksaan', 'kesehatan', 'virgoun', 'usai', 'ditangkap', 'gegara', 'narkoba', 'pengurus', 'truk', 'tutup', 'akses', 'ke', 'pelabuhan', 'bakauheni', 'bptd', 'lampung', 'buka', 'suara', 'polri', 'bongkar', 'kasus', 'judi', 'online', 'selama', 'bulan', 'tersangka', 'ditahan', 'bi', 'sampaikan', 'hasil', 'penelitian', 'uang', 'palsu', 'rp', 'm', 'yang', 'disita', 'polisi', 'bamsoet', 'dukung', 'konser', 'bruno', 'mars', 'untuk', 'peningkatan', 'ekonomi', 'ri', 'tersangka', 'mau', 'tukar', 'duit', 'palsu', 'miliaran', 'dengan', 'uang', 'yang', 'akan', 'dimusnahkan', 'bi', 'dinkes', 'dki', 'sebut', 'nyamuk', 'berwolbachia', 'tekan', 'kasus', 'dbd', 'jika', 'populasi', 'lebih', 'ecoklit', 'pilkada', 'apa', 'itu', 'dan', 'kapan', 'jadwal', 'pelaksanaannya', 'perputaran', 'duit', 'situs', 'judol', 'capai', 'rp', 't', 'bareskrim', 'bakal', 'terapkan', 'tppu', 'kemensos', 'bantah', 'isu', 'pejabat', 'eselon', 'i', 'terima', 'bansos', 'potret', 'uang', 'palsu', 'rp', 'm', 'yang', 'disita', 'polisi', 'di', 'jakbar', 'peduli', 'kesehatan', 'pekerja', 'pt', 'gni', 'gelar', 'vaksinasi', 'bagi', 'ribuan', 'karyawan', 'pengepungan', 'el', 'fashir', 'di', 'sudan', 'indikasikan', 'taktik', 'bumi', 'hangus', 'anwar', 'ibrahim', 'ucapkan', 'selamat', 'ultah', 'jokowi', 'titip', 'salam', 'untuk', 'warga', 'malaysia', 'ukraina', 'lancarkan', 'serangan', 'drone', 'ke', 'kilang', 'minyakpusat', 'militer', 'rusia', 'kemensos', 'tantang', 'suharso', 'sebut', 'nama', 'pejabat', 'eselon', 'i', 'yang', 'terima', 'bansos', 'pui', 'ucapkan', 'selamat', 'citra', 'tnipolri', 'teratas', 'di', 'litbang', 'kompas', 'ibu', 'ungkap', 'kronologi', 'anak', 'di', 'bogor', 'hilang', 'diduga', 'jadi', 'korban', 'tppo', 'enam', 'alasan', 'mengapa', 'lebih', 'dari', 'jemaah', 'haji', 'meninggal', 'di', 'saudi', 'server', 'situs', 'judi', 'online', 'ada', 'di', 'luar', 'negeri', 'transaksi', 'pakai', 'kripto', 'mengenal', 'karakteristik', 'pasar', 'karbon', 'indonesia', 'alex', 'marwata', 'ancam', 'pecat', 'penyidik', 'harun', 'masiku', 'jika', 'ketahuan', 'ada', 'pesanan', 'penampakan', 'mesin', 'pemotongpencetak', 'uang', 'palsu', 'rp', 'miliar', 'di', 'jakbar', 'keluarga', 'sesali', 'virgoun', 'pakai', 'narkoba', 'dia', 'lagi', 'pusing', 'lagi', 'stres', 'berita', 'terpopuler', 'internasional', 'hari', 'ini', 'habiburokhman', 'acungi', 'jempol', 'citra', 'polri', 'naik', 'di', 'survei', 'litbang', 'kompas', 'gaji', 'operator', 'mesin', 'uang', 'palsu', 'jakbar', 'rp', 'juta', 'sehari', 'bonus', 'rp', 'juta', 'penampakan', 'perdana', 'virgoun', 'dan', 'rekan', 'wanitanya', 'usai', 'ditangkap', 'terkait', 'narkoba', 'kadiv', 'propam', 'polri', 'ingatkan', 'anggota', 'terlibat', 'judi', 'online', 'bisa', 'dipecat', 'kepuasan', 'kinerja', 'jokowi', 'versi', 'kompas', 'istana', 'bukti', 'apresiasi', 'warga', 'bareskrim', 'ungkap', 'perputaran', 'uang', 'di', 'situs', 'judi', 'online', 'capai', 'rp', 't', 'bangkai', 'ayam', 'dibuang', 'ke', 'jurang', 'garagara', 'truk', 'kena', 'macet', 'hari', 'di', 'sulawesi', 'gadis', 'remaja', 'asal', 'bogor', 'yang', 'dilaporkan', 'hilang', 'sudah', 'kembali', 'ke', 'rumah', 'tinggi', 'muka', 'air', 'bendung', 'katulampa', 'sentuh', 'cm', 'imbas', 'musim', 'kemarau', 'virgoun', 'peluk', 'ibunya', 'usai', 'ditangkap', 'terkait', 'narkoba', 'mami', 'maafkan', 'aku', 'nakal', 'polisi', 'selidiki', 'dugaan', 'penjarahan', 'di', 'rusun', 'marunda', 'jakut', 'ini', 'hasilnya', 'jemaah', 'haji', 'dilaporkan', 'meninggal', 'di', 'arab', 'saudi', 'bertumpuk', 'ini', 'uang', 'palsu', 'rp', 'm', 'disita', 'polisi', 'dari', 'pabrik', 'di', 'jakbar', 'kpu', 'yakin', 'pemungutan', 'suara', 'ulang', 'pileg', 'tak', 'ganggu', 'pencalonan', 'pilkada', 'klhk', 'tetapkan', 'pulau', 'prioritas', 'buat', 'kejar', 'indonesias', 'folu', 'net', 'sink', 'potret', 'pantai', 'di', 'meksiko', 'dihantam', 'badai', 'tropis', 'alberto', 'kemensos', 'tak', 'temukan', 'data', 'pejabat', 'eselon', 'i', 'kementerian', 'ppn', 'terima', 'bansos', 'sandiaga', 'usul', 'ppp', 'dukung', 'pemerintahan', 'prabowo', 'eks', 'bupati', 'boalemo', 'jadi', 'tersangka', 'kasus', 'korupsi', 'jalan', 'usaha', 'tani', 'dunia', 'hari', 'ini', 'gelombang', 'panas', 'melanda', 'eropa', 'asia', 'dan', 'amerika', 'utara', 'pilpres', 'hoegeng', 'awards', 'tersangka', 'mau', 'tukar', 'duit', 'palsu', 'miliaran', 'dengan', 'uang', 'yang', 'akan', 'dimusnahkan', 'bi', 'penampakan', 'perdana', 'virgoun', 'dan', 'rekan', 'wanitanya', 'usai', 'ditangkap', 'terkait', 'narkoba', 'ada', 'mobil', 'pelat', 'tni', 'di', 'markas', 'sindikat', 'uang', 'palsu', 'jakbar', 'ini', 'kata', 'kapendam', 'bertumpuk', 'ini', 'uang', 'palsu', 'rp', 'm', 'disita', 'polisi', 'dari', 'pabrik', 'di', 'jakbar', 'bi', 'teliti', 'uang', 'palsu', 'rp', 'miliar', 'disita', 'polisi', 'di', 'jakbar', 'ini', 'hasilnya', 'ganjar', 'singgung', 'politisi', 'konsisten', 'kala', 'pdip', 'lirik', 'anies', 'di', 'pilgub', 'jakarta', 'anies', 'respons', 'heru', 'budi', 'soal', 'jakarta', 'semrawut', 'gegara', 'tahun', 'terlupakan', 'dtype', 'U']\n"
     ]
    }
   ],
   "source": [
    "from nltk.tokenize import word_tokenize \n",
    "isi_tokens = word_tokenize(isi)\n",
    "print(isi_tokens)"
   ]
  },
  {
   "cell_type": "code",
   "execution_count": 8,
   "id": "a5c16296-7c79-4df0-b26e-17f2acc6a328",
   "metadata": {},
   "outputs": [],
   "source": [
    "from nltk.corpus import stopwords\n",
    "list_stopwords = stopwords.words('indonesian')"
   ]
  },
  {
   "cell_type": "code",
   "execution_count": 9,
   "id": "350706e9-ef64-4195-b4ee-3fc5bf926dbf",
   "metadata": {
    "scrolled": true
   },
   "outputs": [
    {
     "name": "stdout",
     "output_type": "stream",
     "text": [
      "['array', 'uu', 'tapera', 'digugat', 'mk', 'hapus', 'frasa', 'wajib', 'peserta', 'anggota', 'ppp', 'mk', 'hapus', 'ambang', 'batas', 'dprberlaku', 'hasil', 'pileg', 'penampakan', 'perdana', 'virgoun', 'rekan', 'wanitanya', 'ditangkap', 'terkait', 'narkoba', 'maruf', 'amin', 'disuruh', 'milih', 'anak', 'presiden', 'survei', 'litbang', 'kompas', 'tnipolri', 'lembaga', 'citra', 'positif', 'teratas', 'propam', 'polri', 'buka', 'hotline', 'masyarakat', 'adukan', 'anggota', 'terlibat', 'judi', 'online', 'momen', 'prabowo', 'hampiri', 'jokowi', 'halim', 'ucapan', 'ultah', 'langsung', 'virgoun', 'ditangkap', 'terkait', 'narkoba', 'keluarga', 'ajukan', 'rehabilitasi', 'polisi', 'markas', 'uang', 'palsu', 'jakbar', 'kantor', 'akuntan', 'publik', 'polisi', 'uang', 'palsu', 'rp', 'miliar', 'dijual', 'rp', 'miliar', 'kucing', 'oyen', 'terjebur', 'sumur', 'lemas', 'damkar', 'bogor', 'evakuasi', 'hasil', 'pemeriksaan', 'kesehatan', 'virgoun', 'ditangkap', 'gegara', 'narkoba', 'pengurus', 'truk', 'tutup', 'akses', 'pelabuhan', 'bakauheni', 'bptd', 'lampung', 'buka', 'suara', 'polri', 'bongkar', 'judi', 'online', 'tersangka', 'ditahan', 'bi', 'hasil', 'penelitian', 'uang', 'palsu', 'rp', 'm', 'disita', 'polisi', 'bamsoet', 'dukung', 'konser', 'bruno', 'mars', 'peningkatan', 'ekonomi', 'ri', 'tersangka', 'tukar', 'duit', 'palsu', 'miliaran', 'uang', 'dimusnahkan', 'bi', 'dinkes', 'dki', 'nyamuk', 'berwolbachia', 'tekan', 'dbd', 'populasi', 'ecoklit', 'pilkada', 'jadwal', 'pelaksanaannya', 'perputaran', 'duit', 'situs', 'judol', 'capai', 'rp', 't', 'bareskrim', 'terapkan', 'tppu', 'kemensos', 'bantah', 'isu', 'pejabat', 'eselon', 'i', 'terima', 'bansos', 'potret', 'uang', 'palsu', 'rp', 'm', 'disita', 'polisi', 'jakbar', 'peduli', 'kesehatan', 'pekerja', 'pt', 'gni', 'gelar', 'vaksinasi', 'ribuan', 'karyawan', 'pengepungan', 'el', 'fashir', 'sudan', 'indikasikan', 'taktik', 'bumi', 'hangus', 'anwar', 'ibrahim', 'ucapkan', 'selamat', 'ultah', 'jokowi', 'titip', 'salam', 'warga', 'malaysia', 'ukraina', 'lancarkan', 'serangan', 'drone', 'kilang', 'minyakpusat', 'militer', 'rusia', 'kemensos', 'tantang', 'suharso', 'nama', 'pejabat', 'eselon', 'i', 'terima', 'bansos', 'pui', 'ucapkan', 'selamat', 'citra', 'tnipolri', 'teratas', 'litbang', 'kompas', 'kronologi', 'anak', 'bogor', 'hilang', 'diduga', 'korban', 'tppo', 'enam', 'alasan', 'jemaah', 'haji', 'meninggal', 'saudi', 'server', 'situs', 'judi', 'online', 'negeri', 'transaksi', 'pakai', 'kripto', 'mengenal', 'karakteristik', 'pasar', 'karbon', 'indonesia', 'alex', 'marwata', 'ancam', 'pecat', 'penyidik', 'harun', 'masiku', 'ketahuan', 'pesanan', 'penampakan', 'mesin', 'pemotongpencetak', 'uang', 'palsu', 'rp', 'miliar', 'jakbar', 'keluarga', 'sesali', 'virgoun', 'pakai', 'narkoba', 'pusing', 'stres', 'berita', 'terpopuler', 'internasional', 'habiburokhman', 'acungi', 'jempol', 'citra', 'polri', 'survei', 'litbang', 'kompas', 'gaji', 'operator', 'mesin', 'uang', 'palsu', 'jakbar', 'rp', 'juta', 'sehari', 'bonus', 'rp', 'juta', 'penampakan', 'perdana', 'virgoun', 'rekan', 'wanitanya', 'ditangkap', 'terkait', 'narkoba', 'kadiv', 'propam', 'polri', 'ingatkan', 'anggota', 'terlibat', 'judi', 'online', 'dipecat', 'kepuasan', 'kinerja', 'jokowi', 'versi', 'kompas', 'istana', 'bukti', 'apresiasi', 'warga', 'bareskrim', 'perputaran', 'uang', 'situs', 'judi', 'online', 'capai', 'rp', 't', 'bangkai', 'ayam', 'dibuang', 'jurang', 'garagara', 'truk', 'kena', 'macet', 'sulawesi', 'gadis', 'remaja', 'bogor', 'dilaporkan', 'hilang', 'rumah', 'muka', 'air', 'bendung', 'katulampa', 'sentuh', 'cm', 'imbas', 'musim', 'kemarau', 'virgoun', 'peluk', 'ibunya', 'ditangkap', 'terkait', 'narkoba', 'mami', 'maafkan', 'nakal', 'polisi', 'selidiki', 'dugaan', 'penjarahan', 'rusun', 'marunda', 'jakut', 'hasilnya', 'jemaah', 'haji', 'dilaporkan', 'meninggal', 'arab', 'saudi', 'bertumpuk', 'uang', 'palsu', 'rp', 'm', 'disita', 'polisi', 'pabrik', 'jakbar', 'kpu', 'pemungutan', 'suara', 'ulang', 'pileg', 'ganggu', 'pencalonan', 'pilkada', 'klhk', 'tetapkan', 'pulau', 'prioritas', 'kejar', 'indonesias', 'folu', 'net', 'sink', 'potret', 'pantai', 'meksiko', 'dihantam', 'badai', 'tropis', 'alberto', 'kemensos', 'temukan', 'data', 'pejabat', 'eselon', 'i', 'kementerian', 'ppn', 'terima', 'bansos', 'sandiaga', 'usul', 'ppp', 'dukung', 'pemerintahan', 'prabowo', 'eks', 'bupati', 'boalemo', 'tersangka', 'korupsi', 'jalan', 'usaha', 'tani', 'dunia', 'gelombang', 'panas', 'melanda', 'eropa', 'asia', 'amerika', 'utara', 'pilpres', 'hoegeng', 'awards', 'tersangka', 'tukar', 'duit', 'palsu', 'miliaran', 'uang', 'dimusnahkan', 'bi', 'penampakan', 'perdana', 'virgoun', 'rekan', 'wanitanya', 'ditangkap', 'terkait', 'narkoba', 'mobil', 'pelat', 'tni', 'markas', 'sindikat', 'uang', 'palsu', 'jakbar', 'kapendam', 'bertumpuk', 'uang', 'palsu', 'rp', 'm', 'disita', 'polisi', 'pabrik', 'jakbar', 'bi', 'teliti', 'uang', 'palsu', 'rp', 'miliar', 'disita', 'polisi', 'jakbar', 'hasilnya', 'ganjar', 'singgung', 'politisi', 'konsisten', 'pdip', 'lirik', 'anies', 'pilgub', 'jakarta', 'anies', 'respons', 'heru', 'budi', 'jakarta', 'semrawut', 'gegara', 'terlupakan', 'dtype', 'U']\n"
     ]
    }
   ],
   "source": [
    "#remove stopword pada list token\n",
    "def stopwords_removal(words):\n",
    "    return [word for word in words if word not in list_stopwords]\n",
    "\n",
    "isi = stopwords_removal(isi_tokens)\n",
    "\n",
    "print(isi)"
   ]
  },
  {
   "cell_type": "code",
   "execution_count": 10,
   "id": "b5436734-c540-4b5a-8ef3-486e271feb98",
   "metadata": {},
   "outputs": [
    {
     "name": "stdout",
     "output_type": "stream",
     "text": [
      "['array', 'uu', 'tapera', 'digugat', 'mk', 'hapus', 'frasa', 'wajib', 'peserta', 'anggota', 'ppp', 'mk', 'hapus', 'ambang', 'batas', 'dprberlaku', 'hasil', 'pileg', 'penampakan', 'perdana', 'virgoun', 'rekan', 'wanitanya', 'ditangkap', 'terkait', 'narkoba', 'maruf', 'amin', 'disuruh', 'milih', 'anak', 'presiden', 'survei', 'litbang', 'kompas', 'tnipolri', 'lembaga', 'citra', 'positif', 'teratas', 'propam', 'polri', 'buka', 'hotline', 'masyarakat', 'adukan', 'anggota', 'terlibat', 'judi', 'online', 'momen', 'prabowo', 'hampiri', 'jokowi', 'halim', 'ucapan', 'ultah', 'langsung', 'virgoun', 'ditangkap', 'terkait', 'narkoba', 'keluarga', 'ajukan', 'rehabilitasi', 'polisi', 'markas', 'uang', 'palsu', 'jakbar', 'kantor', 'akuntan', 'publik', 'polisi', 'uang', 'palsu', 'rp', 'miliar', 'dijual', 'rp', 'miliar', 'kucing', 'oyen', 'terjebur', 'sumur', 'lemas', 'damkar', 'bogor', 'evakuasi', 'hasil', 'pemeriksaan', 'kesehatan', 'virgoun', 'ditangkap', 'gegara', 'narkoba', 'pengurus', 'truk', 'tutup', 'akses', 'pelabuhan', 'bakauheni', 'bptd', 'lampung', 'buka', 'suara', 'polri', 'bongkar', 'judi', 'online', 'tersangka', 'ditahan', 'bi', 'hasil', 'penelitian', 'uang', 'palsu', 'rp', 'm', 'disita', 'polisi', 'bamsoet', 'dukung', 'konser', 'bruno', 'mars', 'peningkatan', 'ekonomi', 'ri', 'tersangka', 'tukar', 'duit', 'palsu', 'miliaran', 'uang', 'dimusnahkan', 'bi', 'dinkes', 'dki', 'nyamuk', 'berwolbachia', 'tekan', 'dbd', 'populasi', 'ecoklit', 'pilkada', 'jadwal', 'pelaksanaannya', 'perputaran', 'duit', 'situs', 'judol', 'capai', 'rp', 't', 'bareskrim', 'terapkan', 'tppu', 'kemensos', 'bantah', 'isu', 'pejabat', 'eselon', 'i', 'terima', 'bansos', 'potret', 'uang', 'palsu', 'rp', 'm', 'disita', 'polisi', 'jakbar', 'peduli', 'kesehatan', 'pekerja', 'pt', 'gni', 'gelar', 'vaksinasi', 'ribuan', 'karyawan', 'pengepungan', 'el', 'fashir', 'sudan', 'indikasikan', 'taktik', 'bumi', 'hangus', 'anwar', 'ibrahim', 'ucapkan', 'selamat', 'ultah', 'jokowi', 'titip', 'salam', 'warga', 'malaysia', 'ukraina', 'lancarkan', 'serangan', 'drone', 'kilang', 'minyakpusat', 'militer', 'rusia', 'kemensos', 'tantang', 'suharso', 'nama', 'pejabat', 'eselon', 'i', 'terima', 'bansos', 'pui', 'ucapkan', 'selamat', 'citra', 'tnipolri', 'teratas', 'litbang', 'kompas', 'kronologi', 'anak', 'bogor', 'hilang', 'diduga', 'korban', 'tppo', 'enam', 'alasan', 'jemaah', 'haji', 'meninggal', 'saudi', 'server', 'situs', 'judi', 'online', 'negeri', 'transaksi', 'pakai', 'kripto', 'mengenal', 'karakteristik', 'pasar', 'karbon', 'indonesia', 'alex', 'marwata', 'ancam', 'pecat', 'penyidik', 'harun', 'masiku', 'ketahuan', 'pesanan', 'penampakan', 'mesin', 'pemotongpencetak', 'uang', 'palsu', 'rp', 'miliar', 'jakbar', 'keluarga', 'sesali', 'virgoun', 'pakai', 'narkoba', 'pusing', 'stres', 'berita', 'terpopuler', 'internasional', 'habiburokhman', 'acungi', 'jempol', 'citra', 'polri', 'survei', 'litbang', 'kompas', 'gaji', 'operator', 'mesin', 'uang', 'palsu', 'jakbar', 'rp', 'juta', 'sehari', 'bonus', 'rp', 'juta', 'penampakan', 'perdana', 'virgoun', 'rekan', 'wanitanya', 'ditangkap', 'terkait', 'narkoba', 'kadiv', 'propam', 'polri', 'ingatkan', 'anggota', 'terlibat', 'judi', 'online', 'dipecat', 'kepuasan', 'kinerja', 'jokowi', 'versi', 'kompas', 'istana', 'bukti', 'apresiasi', 'warga', 'bareskrim', 'perputaran', 'uang', 'situs', 'judi', 'online', 'capai', 'rp', 't', 'bangkai', 'ayam', 'dibuang', 'jurang', 'garagara', 'truk', 'kena', 'macet', 'sulawesi', 'gadis', 'remaja', 'bogor', 'dilaporkan', 'hilang', 'rumah', 'muka', 'air', 'bendung', 'katulampa', 'sentuh', 'cm', 'imbas', 'musim', 'kemarau', 'virgoun', 'peluk', 'ibunya', 'ditangkap', 'terkait', 'narkoba', 'mami', 'maafkan', 'nakal', 'polisi', 'selidiki', 'dugaan', 'penjarahan', 'rusun', 'marunda', 'jakut', 'hasilnya', 'jemaah', 'haji', 'dilaporkan', 'meninggal', 'arab', 'saudi', 'bertumpuk', 'uang', 'palsu', 'rp', 'm', 'disita', 'polisi', 'pabrik', 'jakbar', 'kpu', 'pemungutan', 'suara', 'ulang', 'pileg', 'ganggu', 'pencalonan', 'pilkada', 'klhk', 'tetapkan', 'pulau', 'prioritas', 'kejar', 'indonesias', 'folu', 'net', 'sink', 'potret', 'pantai', 'meksiko', 'dihantam', 'badai', 'tropis', 'alberto', 'kemensos', 'temukan', 'data', 'pejabat', 'eselon', 'i', 'kementerian', 'ppn', 'terima', 'bansos', 'sandiaga', 'usul', 'ppp', 'dukung', 'pemerintahan', 'prabowo', 'eks', 'bupati', 'boalemo', 'tersangka', 'korupsi', 'jalan', 'usaha', 'tani', 'dunia', 'gelombang', 'panas', 'melanda', 'eropa', 'asia', 'amerika', 'utara', 'pilpres', 'hoegeng', 'awards', 'tersangka', 'tukar', 'duit', 'palsu', 'miliaran', 'uang', 'dimusnahkan', 'bi', 'penampakan', 'perdana', 'virgoun', 'rekan', 'wanitanya', 'ditangkap', 'terkait', 'narkoba', 'mobil', 'pelat', 'tni', 'markas', 'sindikat', 'uang', 'palsu', 'jakbar', 'kapendam', 'bertumpuk', 'uang', 'palsu', 'rp', 'm', 'disita', 'polisi', 'pabrik', 'jakbar', 'bi', 'teliti', 'uang', 'palsu', 'rp', 'miliar', 'disita', 'polisi', 'jakbar', 'hasilnya', 'ganjar', 'singgung', 'politisi', 'konsisten', 'pdip', 'lirik', 'anies', 'pilgub', 'jakarta', 'anies', 'respons', 'heru', 'budi', 'jakarta', 'semrawut', 'gegara', 'terlupakan', 'dtype', 'U']\n"
     ]
    }
   ],
   "source": [
    "f = open(\"./preprocessing/2024-06-29_20-00-06.txt\", \"x\")\n",
    "f.write(str(isi))\n",
    "f.close()\n",
    "\n",
    "#open and read the file after the appending:\n",
    "f = open(\"./preprocessing/2024-06-29_20-00-06.txt\", \"r\")\n",
    "print(f.read())"
   ]
  },
  {
   "cell_type": "code",
   "execution_count": 11,
   "id": "c947f6b5-ca82-4015-b750-907f4e750f1b",
   "metadata": {},
   "outputs": [
    {
     "name": "stdout",
     "output_type": "stream",
     "text": [
      "------- TF-IDF on data -------\n",
      "TF-IDF  <class 'numpy.ndarray'> (512, 326)\n"
     ]
    }
   ],
   "source": [
    "from sklearn.feature_extraction.text import TfidfVectorizer\n",
    "\n",
    "max_features = 500\n",
    "\n",
    "# Feature Engineering \n",
    "print (\"------- TF-IDF on data -------\")\n",
    "\n",
    "tf_idf = TfidfVectorizer(max_features=max_features, binary=True)\n",
    "tfidf_mat = tf_idf.fit_transform(isi).toarray()\n",
    "\n",
    "print(\"TF-IDF \", type(tfidf_mat), tfidf_mat.shape)"
   ]
  },
  {
   "cell_type": "code",
   "execution_count": 12,
   "id": "75e86236-78f2-47e0-a770-58d4316fdaaa",
   "metadata": {},
   "outputs": [
    {
     "data": {
      "text/html": [
       "<div>\n",
       "<style scoped>\n",
       "    .dataframe tbody tr th:only-of-type {\n",
       "        vertical-align: middle;\n",
       "    }\n",
       "\n",
       "    .dataframe tbody tr th {\n",
       "        vertical-align: top;\n",
       "    }\n",
       "\n",
       "    .dataframe thead th {\n",
       "        text-align: right;\n",
       "    }\n",
       "</style>\n",
       "<table border=\"1\" class=\"dataframe\">\n",
       "  <thead>\n",
       "    <tr style=\"text-align: right;\">\n",
       "      <th></th>\n",
       "      <th>term</th>\n",
       "      <th>rank</th>\n",
       "    </tr>\n",
       "  </thead>\n",
       "  <tbody>\n",
       "    <tr>\n",
       "      <th>310</th>\n",
       "      <td>uang</td>\n",
       "      <td>13.0</td>\n",
       "    </tr>\n",
       "    <tr>\n",
       "      <th>257</th>\n",
       "      <td>rp</td>\n",
       "      <td>12.0</td>\n",
       "    </tr>\n",
       "    <tr>\n",
       "      <th>201</th>\n",
       "      <td>palsu</td>\n",
       "      <td>12.0</td>\n",
       "    </tr>\n",
       "    <tr>\n",
       "      <th>234</th>\n",
       "      <td>polisi</td>\n",
       "      <td>8.0</td>\n",
       "    </tr>\n",
       "    <tr>\n",
       "      <th>119</th>\n",
       "      <td>jakbar</td>\n",
       "      <td>8.0</td>\n",
       "    </tr>\n",
       "  </tbody>\n",
       "</table>\n",
       "</div>"
      ],
      "text/plain": [
       "       term  rank\n",
       "310    uang  13.0\n",
       "257      rp  12.0\n",
       "201   palsu  12.0\n",
       "234  polisi   8.0\n",
       "119  jakbar   8.0"
      ]
     },
     "execution_count": 12,
     "metadata": {},
     "output_type": "execute_result"
    }
   ],
   "source": [
    "terms = tf_idf.get_feature_names_out()\n",
    "\n",
    "# sum tfidf frequency of each term through documents\n",
    "sums = tfidf_mat.sum(axis=0)\n",
    "\n",
    "# connecting term to its sums frequency\n",
    "data = []\n",
    "for col, term in enumerate(terms):\n",
    "    data.append((term, sums[col] ))\n",
    "\n",
    "ranking = pd.DataFrame(data, columns=['term','rank'])\n",
    "ranking.sort_values('rank', ascending=False).head(5)"
   ]
  }
 ],
 "metadata": {
  "kernelspec": {
   "display_name": "Python 3 (ipykernel)",
   "language": "python",
   "name": "python3"
  },
  "language_info": {
   "codemirror_mode": {
    "name": "ipython",
    "version": 3
   },
   "file_extension": ".py",
   "mimetype": "text/x-python",
   "name": "python",
   "nbconvert_exporter": "python",
   "pygments_lexer": "ipython3",
   "version": "3.11.8"
  }
 },
 "nbformat": 4,
 "nbformat_minor": 5
}
